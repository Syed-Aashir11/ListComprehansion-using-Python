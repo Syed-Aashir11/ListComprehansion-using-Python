{
 "cells": [
  {
   "cell_type": "code",
   "execution_count": 9,
   "id": "valid-flavor",
   "metadata": {},
   "outputs": [
    {
     "name": "stdout",
     "output_type": "stream",
     "text": [
      "['a', 'a', 's', 'h', 'i', 'r']\n"
     ]
    }
   ],
   "source": [
    "#for loop\n",
    "master_list = []\n",
    "for letter in \"aashir\":\n",
    "    master_list.append(letter)\n",
    "    \n",
    "print(master_list)    "
   ]
  },
  {
   "cell_type": "code",
   "execution_count": 10,
   "id": "worse-dynamics",
   "metadata": {},
   "outputs": [
    {
     "name": "stdout",
     "output_type": "stream",
     "text": [
      "['a', 'a', 's', 'h', 'i', 'r']\n"
     ]
    }
   ],
   "source": [
    "#list comprehension\n",
    "#syntax: workdone + condition\n",
    "master_List = [letter for letter in \"aashir\"]\n",
    "print(master_List)"
   ]
  },
  {
   "cell_type": "code",
   "execution_count": 11,
   "id": "framed-contact",
   "metadata": {},
   "outputs": [
    {
     "name": "stdout",
     "output_type": "stream",
     "text": [
      "[225, 7921, 8100, 1225, 4096, 900, 4, 43681, 2916, 4489]\n"
     ]
    }
   ],
   "source": [
    "#for loop\n",
    "numbers = [15, 89,90,35,64,30,2,209,54,67]\n",
    "sqaure = []\n",
    "\n",
    "for n in numbers:\n",
    "    sqaure.append(n**2)\n",
    "    \n",
    "print(sqaure)    "
   ]
  },
  {
   "cell_type": "code",
   "execution_count": 13,
   "id": "structural-adoption",
   "metadata": {},
   "outputs": [
    {
     "name": "stdout",
     "output_type": "stream",
     "text": [
      "[225, 7921, 8100, 1225, 4096, 900, 4, 43681, 2916, 4489]\n"
     ]
    }
   ],
   "source": [
    "#list comprehension\n",
    "numbers = [15, 89,90,35,64,30,2,209,54,67]\n",
    "sqaure = [n**2 for n in numbers]\n",
    "\n",
    "print(sqaure)"
   ]
  },
  {
   "cell_type": "code",
   "execution_count": null,
   "id": "meaningful-ranch",
   "metadata": {},
   "outputs": [],
   "source": []
  }
 ],
 "metadata": {
  "kernelspec": {
   "display_name": "Python 3",
   "language": "python",
   "name": "python3"
  },
  "language_info": {
   "codemirror_mode": {
    "name": "ipython",
    "version": 3
   },
   "file_extension": ".py",
   "mimetype": "text/x-python",
   "name": "python",
   "nbconvert_exporter": "python",
   "pygments_lexer": "ipython3",
   "version": "3.8.7"
  }
 },
 "nbformat": 4,
 "nbformat_minor": 5
}
